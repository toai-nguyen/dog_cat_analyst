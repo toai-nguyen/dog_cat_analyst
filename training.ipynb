{
 "cells": [
  {
   "cell_type": "code",
   "execution_count": null,
   "id": "014a1f08",
   "metadata": {},
   "outputs": [],
   "source": [
    "# get dataset from folder test_set and training_set\n",
    "import os\n",
    "import sys\n",
    "import requests\n",
    "\n"
   ]
  }
 ],
 "metadata": {
  "language_info": {
   "name": "python"
  }
 },
 "nbformat": 4,
 "nbformat_minor": 5
}
